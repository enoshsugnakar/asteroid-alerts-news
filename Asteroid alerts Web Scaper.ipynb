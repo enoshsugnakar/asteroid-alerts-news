{
 "cells": [
  {
   "cell_type": "markdown",
   "id": "e7f0979c",
   "metadata": {},
   "source": [
    "## A Python Web-scraper looking for Asteroid alerts in past 2 years."
   ]
  },
  {
   "cell_type": "code",
   "execution_count": 1,
   "id": "7bafc1e8",
   "metadata": {},
   "outputs": [],
   "source": [
    "#importing libs\n",
    "import requests\n",
    "from bs4 import BeautifulSoup\n",
    "\n",
    "import pandas as pd"
   ]
  },
  {
   "cell_type": "code",
   "execution_count": 7,
   "id": "8f7fad96",
   "metadata": {},
   "outputs": [],
   "source": [
    "# building scraping function\n",
    "\n",
    "def scrape_google_news():\n",
    "    results = []\n",
    "    url = \"https://news.google.com/search?q=asteroid%20alerts%20in%20past%202%20years&hl=en-US&gl=US&ceid=US%3Aen\"\n",
    "    page = requests.get(url)\n",
    "    soup = BeautifulSoup(page.content, \"html.parser\")\n",
    "    articles = soup.find_all(\"article\")\n",
    "    for article in articles:\n",
    "        try:\n",
    "            headline = article.find(\"h3\").text\n",
    "            link = article.find(\"a\")[\"href\"]\n",
    "            results.append({\"title\": headline, \"link\": link.replace('./','https://news.google.com/')})\n",
    "        except:\n",
    "            continue\n",
    "    return results"
   ]
  },
  {
   "cell_type": "code",
   "execution_count": 8,
   "id": "268d7d5e",
   "metadata": {},
   "outputs": [],
   "source": [
    "# executing function\n",
    "alerts = scrape_google_news()"
   ]
  },
  {
   "cell_type": "code",
   "execution_count": 9,
   "id": "8419423c",
   "metadata": {
    "scrolled": true
   },
   "outputs": [
    {
     "name": "stdout",
     "output_type": "stream",
     "text": [
      "[{'title': 'Colossal 2400-foot asteroid, 4 other space rocks to buzz Earth soon', 'link': 'https://news.google.com/articles/CBMifWh0dHBzOi8vdGVjaC5oaW5kdXN0YW50aW1lcy5jb20vcGhvdG9zL2NvbG9zc2FsLTI0MDAtZm9vdC1hc3Rlcm9pZC00LW90aGVyLXNwYWNlLXJvY2tzLXRvLWJ1enotZWFydGgtc29vbi03MTY3NjAwODU5NDkyNi5odG1s0gGBAWh0dHBzOi8vdGVjaC5oaW5kdXN0YW50aW1lcy5jb20vYW1wL3Bob3Rvcy9jb2xvc3NhbC0yNDAwLWZvb3QtYXN0ZXJvaWQtNC1vdGhlci1zcGFjZS1yb2Nrcy10by1idXp6LWVhcnRoLXNvb24tNzE2NzYwMDg1OTQ5MjYuaHRtbA?hl=en-US&gl=US&ceid=US%3Aen'}, {'title': 'NASA Astronomy Picture of the Day 10 February 2023: Awesome! Comet ZTF meets Comet ATLAS', 'link': 'https://news.google.com/articles/CBMilAFodHRwczovL3RlY2guaGluZHVzdGFudGltZXMuY29tL3RlY2gvbmV3cy9uYXNhLWFzdHJvbm9teS1waWN0dXJlLW9mLXRoZS1kYXktMTAtZmVicnVhcnktMjAyMy1hd2Vzb21lLWNvbWV0LXp0Zi1tZWV0cy1jb21ldC1hdGxhcy03MTY3NjAyMDk1Njc5Ny5odG1s0gGYAWh0dHBzOi8vdGVjaC5oaW5kdXN0YW50aW1lcy5jb20vYW1wL3RlY2gvbmV3cy9uYXNhLWFzdHJvbm9teS1waWN0dXJlLW9mLXRoZS1kYXktMTAtZmVicnVhcnktMjAyMy1hd2Vzb21lLWNvbWV0LXp0Zi1tZWV0cy1jb21ldC1hdGxhcy03MTY3NjAyMDk1Njc5Ny5odG1s?hl=en-US&gl=US&ceid=US%3Aen'}, {'title': 'Asteroid warning! 239-foot asteroid discovered speeding towards Earth by NASA', 'link': 'https://news.google.com/articles/CBMiigFodHRwczovL3RlY2guaGluZHVzdGFudGltZXMuY29tL3RlY2gvbmV3cy9hc3Rlcm9pZC13YXJuaW5nLTIzOS1mb290LWFzdGVyb2lkLWRpc2NvdmVyZWQtc3BlZWRpbmctdG93YXJkcy1lYXJ0aC1ieS1uYXNhLTcxNjc1MTQwMzA5ODkyLmh0bWzSAY4BaHR0cHM6Ly90ZWNoLmhpbmR1c3RhbnRpbWVzLmNvbS9hbXAvdGVjaC9uZXdzL2FzdGVyb2lkLXdhcm5pbmctMjM5LWZvb3QtYXN0ZXJvaWQtZGlzY292ZXJlZC1zcGVlZGluZy10b3dhcmRzLWVhcnRoLWJ5LW5hc2EtNzE2NzUxNDAzMDk4OTIuaHRtbA?hl=en-US&gl=US&ceid=US%3Aen'}, {'title': 'Rare, green comet to pass by Earth Wednesday', 'link': 'https://news.google.com/articles/CBMiUGh0dHBzOi8vYWJjbmV3cy5nby5jb20vVVMvZ3JlZW4tY29tZXQtcGFzcy1lYXJ0aC1zdGFydGluZy13ZWVrL3N0b3J5P2lkPTk2MzM1MjQy0gFUaHR0cHM6Ly9hYmNuZXdzLmdvLmNvbS9hbXAvVVMvZ3JlZW4tY29tZXQtcGFzcy1lYXJ0aC1zdGFydGluZy13ZWVrL3N0b3J5P2lkPTk2MzM1MjQy?hl=en-US&gl=US&ceid=US%3Aen'}, {'title': 'Earth facing danger from a skyscraper-sized asteroid! Close approach today', 'link': 'https://news.google.com/articles/CBMihwFodHRwczovL3RlY2guaGluZHVzdGFudGltZXMuY29tL3RlY2gvbmV3cy9lYXJ0aC1mYWNpbmctZGFuZ2VyLWZyb20tYS1za3lzY3JhcGVyLXNpemVkLWFzdGVyb2lkLWNsb3NlLWFwcHJvYWNoLXRvZGF5LTcxNjczODMyOTE2MzkxLmh0bWzSAYsBaHR0cHM6Ly90ZWNoLmhpbmR1c3RhbnRpbWVzLmNvbS9hbXAvdGVjaC9uZXdzL2VhcnRoLWZhY2luZy1kYW5nZXItZnJvbS1hLXNreXNjcmFwZXItc2l6ZWQtYXN0ZXJvaWQtY2xvc2UtYXBwcm9hY2gtdG9kYXktNzE2NzM4MzI5MTYzOTEuaHRtbA?hl=en-US&gl=US&ceid=US%3Aen'}, {'title': 'Truck-Sized Asteroid About to Make Close Pass Over South America ...', 'link': 'https://news.google.com/articles/CBMihwFodHRwczovL3d3dy5hdXRvZXZvbHV0aW9uLmNvbS9uZXdzL3RydWNrLXNpemVkLWFzdGVyb2lkLWFib3V0LXRvLW1ha2UtY2xvc2UtcGFzcy1vdmVyLXNvdXRoLWFtZXJpY2EtaGFzLWFzdHJvbm9tZXJzLXRhbGtpbmctMjA5MTU3Lmh0bWzSAQA?hl=en-US&gl=US&ceid=US%3Aen'}, {'title': \"UK snow maps show '1,000km Beast from the East 2' coming as Met Office issue warning\", 'link': 'https://news.google.com/articles/CBMiTmh0dHBzOi8vd3d3LmRhaWx5c3Rhci5jby51ay9uZXdzL2xhdGVzdC1uZXdzL3VrLXNub3ctbWFwcy1zaG93LTEwMDBrbS0yOTE2Mzc5NNIBUmh0dHBzOi8vd3d3LmRhaWx5c3Rhci5jby51ay9uZXdzL2xhdGVzdC1uZXdzL3VrLXNub3ctbWFwcy1zaG93LTEwMDBrbS0yOTE2Mzc5NC5hbXA?hl=en-US&gl=US&ceid=US%3Aen'}, {'title': \"'Planet killer' asteroid spotted hiding in the sun's glare\", 'link': 'https://news.google.com/articles/CBMiXWh0dHBzOi8vd3d3LmNubi5jb20vMjAyMi8xMC8zMS93b3JsZC9wb3RlbnRpYWxseS1oYXphcmRvdXMtbmVhci1lYXJ0aC1hc3Rlcm9pZC1zY24vaW5kZXguaHRtbNIBYWh0dHBzOi8vYW1wLmNubi5jb20vY25uLzIwMjIvMTAvMzEvd29ybGQvcG90ZW50aWFsbHktaGF6YXJkb3VzLW5lYXItZWFydGgtYXN0ZXJvaWQtc2NuL2luZGV4Lmh0bWw?hl=en-US&gl=US&ceid=US%3Aen'}, {'title': 'NASA Program Predicted Impact of Small Asteroid Over Ontario ...', 'link': 'https://news.google.com/articles/CBMiYWh0dHBzOi8vd3d3LmpwbC5uYXNhLmdvdi9uZXdzL25hc2EtcHJvZ3JhbS1wcmVkaWN0ZWQtaW1wYWN0LW9mLXNtYWxsLWFzdGVyb2lkLW92ZXItb250YXJpby1jYW5hZGHSAQA?hl=en-US&gl=US&ceid=US%3Aen'}, {'title': 'Building-size asteroids are barreling toward Earth', 'link': 'https://news.google.com/articles/CBMiOmh0dHBzOi8vd3d3LmxpdmVzY2llbmNlLmNvbS9uZWFyLWVhcnRoLWFzdGVyb2lkcy1qdWx5LTIwMjLSAQA?hl=en-US&gl=US&ceid=US%3Aen'}, {'title': '2 big asteroids whiz past Earth in the next week. No, they definitely ...', 'link': 'https://news.google.com/articles/CBMiPmh0dHBzOi8vd3d3LnNwYWNlLmNvbS9hc3Rlcm9pZC1mbHlieXMtZWFydGgtbm8tdGhyZWF0LW1heS0yMDIy0gEA?hl=en-US&gl=US&ceid=US%3Aen'}, {'title': 'Asteroid 2022 OE2 close encounter coming Aug. 4', 'link': 'https://news.google.com/articles/CBMiM2h0dHBzOi8vd3d3LmxpdmVzY2llbmNlLmNvbS9hc3Rlcm9pZC0yMDIyLW9lMi1mbHliedIBAA?hl=en-US&gl=US&ceid=US%3Aen'}, {'title': 'NASA Asteroid Threat Practice Drill Shows We’re Not Ready', 'link': 'https://news.google.com/articles/CBMiZGh0dHBzOi8vd3d3LnNjaWVudGlmaWNhbWVyaWNhbi5jb20vYXJ0aWNsZS9uYXNhLWFzdGVyb2lkLXRocmVhdC1wcmFjdGljZS1kcmlsbC1zaG93cy13ZXJlLW5vdC1yZWFkeS_SAW1odHRwczovL3d3dy5zY2llbnRpZmljYW1lcmljYW4uY29tL2FydGljbGUvbmFzYS1hc3Rlcm9pZC10aHJlYXQtcHJhY3RpY2UtZHJpbGwtc2hvd3Mtd2VyZS1ub3QtcmVhZHkvP2FtcD10cnVl?hl=en-US&gl=US&ceid=US%3Aen'}, {'title': 'Asteroid Alert: Massive asteroid hurtling towards Earth! Watch out on Oct 2', 'link': 'https://news.google.com/articles/CBMihwFodHRwczovL3RlY2guaGluZHVzdGFudGltZXMuY29tL3RlY2gvbmV3cy9hc3Rlcm9pZC1hbGVydC1tYXNzaXZlLWFzdGVyb2lkLWh1cnRsaW5nLXRvd2FyZHMtZWFydGgtd2F0Y2gtb3V0LW9uLW9jdC0yLTcxNjY0NTEzOTIyNzgxLmh0bWzSAYsBaHR0cHM6Ly90ZWNoLmhpbmR1c3RhbnRpbWVzLmNvbS9hbXAvdGVjaC9uZXdzL2FzdGVyb2lkLWFsZXJ0LW1hc3NpdmUtYXN0ZXJvaWQtaHVydGxpbmctdG93YXJkcy1lYXJ0aC13YXRjaC1vdXQtb24tb2N0LTItNzE2NjQ1MTM5MjI3ODEuaHRtbA?hl=en-US&gl=US&ceid=US%3Aen'}, {'title': \"A monstrously large, 'potentially hazardous' asteroid will zip through ...\", 'link': 'https://news.google.com/articles/CBMiRGh0dHBzOi8vd3d3LmxpdmVzY2llbmNlLmNvbS9oYWxsb3dlZW4tYXN0ZXJvaWQtcG90ZW50aWFsbHktaGF6YXJkb3Vz0gEA?hl=en-US&gl=US&ceid=US%3Aen'}, {'title': 'Tsunami from dinosaur-killing asteroid had mile-high waves and ...', 'link': 'https://news.google.com/articles/CBMiTWh0dHBzOi8vd3d3LmxpdmVzY2llbmNlLmNvbS9kaW5vc2F1ci1raWxsaW5nLWFzdGVyb2lkLXRyaWdnZXJlZC1naWFudC10c3VuYW1p0gEA?hl=en-US&gl=US&ceid=US%3Aen'}, {'title': 'Gigantic Asteroid Is About to Skim Past Earth, NASA Says', 'link': 'https://news.google.com/articles/CBMiVGh0dHBzOi8vd3d3LnNjaWVuY2VhbGVydC5jb20vZ2lnYW50aWMtYXN0ZXJvaWQtaXMtYWJvdXQtdG8tc2tpbS1wYXN0LWVhcnRoLW5hc2Etc2F5c9IBWGh0dHBzOi8vd3d3LnNjaWVuY2VhbGVydC5jb20vZ2lnYW50aWMtYXN0ZXJvaWQtaXMtYWJvdXQtdG8tc2tpbS1wYXN0LWVhcnRoLW5hc2Etc2F5cy9hbXA?hl=en-US&gl=US&ceid=US%3Aen'}, {'title': 'Largest asteroid ever to hit Earth was twice as big as the rock that ...', 'link': 'https://news.google.com/articles/CBMiQ2h0dHBzOi8vd3d3LmxpdmVzY2llbmNlLmNvbS92cmVkZWZvcnQtYXN0ZXJvaWQtYmlnZ2VyLXRoYW4tZXhwZWN0ZWTSAQA?hl=en-US&gl=US&ceid=US%3Aen'}, {'title': 'Asteroids, climate change, killer robots: A handy guide to doomsday ...', 'link': 'https://news.google.com/articles/CBMiUGh0dHBzOi8vd3d3Lndhc2hpbmd0b25wb3N0LmNvbS9tYWdhemluZS8yMDIyLzExLzA3L2Rvb21zZGF5LXNjZW5hcmlvcy1hc3Rlcm9pZHMv0gEA?hl=en-US&gl=US&ceid=US%3Aen'}, {'title': 'How NASA Launched Its Asteroid Killer', 'link': 'https://news.google.com/articles/CBMiWWh0dHBzOi8vd3d3Lm5ld3lvcmtlci5jb20vdGVjaC9hbm5hbHMtb2YtdGVjaG5vbG9neS9ob3ctbmFzYS1sYXVuY2hlZC1pdHMtYXN0ZXJvaWQta2lsbGVy0gEA?hl=en-US&gl=US&ceid=US%3Aen'}, {'title': 'Giant Asteroid Unleashed a Devastating Martian Megatsunami ...', 'link': 'https://news.google.com/articles/CBMiaWh0dHBzOi8vd3d3LnNjaWVuY2VhbGVydC5jb20vZ2lhbnQtYXN0ZXJvaWQtdW5sZWFzaGVkLWEtZGV2YXN0YXRpbmctbWFydGlhbi1tZWdhdHN1bmFtaS1ldmlkZW5jZS1zdWdnZXN0c9IBbWh0dHBzOi8vd3d3LnNjaWVuY2VhbGVydC5jb20vZ2lhbnQtYXN0ZXJvaWQtdW5sZWFzaGVkLWEtZGV2YXN0YXRpbmctbWFydGlhbi1tZWdhdHN1bmFtaS1ldmlkZW5jZS1zdWdnZXN0cy9hbXA?hl=en-US&gl=US&ceid=US%3Aen'}, {'title': 'Asteroid 2022 KY4 makes its closest-ever approach on July 17', 'link': 'https://news.google.com/articles/CBMiPGh0dHBzOi8vd3d3LmxpdmVzY2llbmNlLmNvbS9hc3Rlcm9pZC0yMDIyLWt5NC1jbG9zZS1hcHByb2FjaNIBAA?hl=en-US&gl=US&ceid=US%3Aen'}, {'title': 'NASA proved it can deflect an asteroid. But spotting them is tricky.', 'link': 'https://news.google.com/articles/CBMiTWh0dHBzOi8vd3d3Lndhc2hpbmd0b25wb3N0LmNvbS90ZWNobm9sb2d5LzIwMjIvMTAvMjQvbmFzYS1hc3Rlcm9pZC10ZWxlc2NvcGUv0gEA?hl=en-US&gl=US&ceid=US%3Aen'}, {'title': 'Watch asteroid 7335 (1989 JA) sweep past today and tomorrow', 'link': 'https://news.google.com/articles/CBMiT2h0dHBzOi8vZWFydGhza3kub3JnL3NwYWNlL2xhcmdlLWFzdGVyb2lkLTczMzUtMTk4OS1qYS1wYXNzLXNhZmVseS1tYXktMjctMjAyMi_SAQA?hl=en-US&gl=US&ceid=US%3Aen'}, {'title': 'The DART mission successfully changed the motion of an asteroid', 'link': 'https://news.google.com/articles/CBMiTGh0dHBzOi8vd3d3LmNubi5jb20vMjAyMi8xMC8xMS93b3JsZC9uYXNhLWRhcnQtc3VjY2Vzcy11cGRhdGUtc2NuL2luZGV4Lmh0bWzSAVBodHRwczovL2FtcC5jbm4uY29tL2Nubi8yMDIyLzEwLzExL3dvcmxkL25hc2EtZGFydC1zdWNjZXNzLXVwZGF0ZS1zY24vaW5kZXguaHRtbA?hl=en-US&gl=US&ceid=US%3Aen'}, {'title': 'Scientists Glimpse Incoming Asteroid Just Hours Before It Makes ...', 'link': 'https://news.google.com/articles/CBMiY2h0dHBzOi8vd3d3LnNjaWVuY2VhbGVydC5jb20vc2NpZW50aXN0cy1nbGltcHNlLWluY29taW5nLWFzdGVyb2lkLWp1c3QtaG91cnMtYmVmb3JlLWl0LW1ha2VzLWltcGFjdNIBZ2h0dHBzOi8vd3d3LnNjaWVuY2VhbGVydC5jb20vc2NpZW50aXN0cy1nbGltcHNlLWluY29taW5nLWFzdGVyb2lkLWp1c3QtaG91cnMtYmVmb3JlLWl0LW1ha2VzLWltcGFjdC9hbXA?hl=en-US&gl=US&ceid=US%3Aen'}, {'title': 'White House Wants NASA to Slow Hunt for Killer Asteroids in ...', 'link': 'https://news.google.com/articles/CBMicmh0dHBzOi8vd3d3LmJsb29tYmVyZy5jb20vbmV3cy9hcnRpY2xlcy8yMDIyLTA5LTAxL2tpbGxlci1hc3Rlcm9pZC1zZWFyY2gtaGl0cy1idW1wLWFzLWJpZGVuLXRlYW0tdXJnZXMtbmFzYS1kZWxhedIBAA?hl=en-US&gl=US&ceid=US%3Aen'}, {'title': 'Astronomers work every night in Hawaiʻi to protect Earth from ...', 'link': 'https://news.google.com/articles/CBMif2h0dHBzOi8va2F1YWlub3duZXdzLmNvbS8yMDIyLzEwLzAyL2FzdHJvbm9tZXJzLXdvcmstZXZlcnktbmlnaHQtaW4taGF3YWklQ0ElQkJpLXRvLXByb3RlY3QtZWFydGgtZnJvbS1hc3Rlcm9pZHMtYmlnLWFuZC1zbWFsbC_SAQA?hl=en-US&gl=US&ceid=US%3Aen'}, {'title': 'Largest asteroid to approach Earth in 2022 will zoom past our planet this week', 'link': 'https://news.google.com/articles/CBMiSWh0dHBzOi8vcGh5cy5vcmcvbmV3cy8yMDIyLTA1LWxhcmdlc3QtYXN0ZXJvaWQtYXBwcm9hY2gtZWFydGgtcGxhbmV0Lmh0bWzSAUhodHRwczovL3BoeXMub3JnL25ld3MvMjAyMi0wNS1sYXJnZXN0LWFzdGVyb2lkLWFwcHJvYWNoLWVhcnRoLXBsYW5ldC5hbXA?hl=en-US&gl=US&ceid=US%3Aen'}, {'title': 'Noble gases and nitrogen in samples of asteroid Ryugu record its ...', 'link': 'https://news.google.com/articles/CBMiM2h0dHBzOi8vd3d3LnNjaWVuY2Uub3JnL2RvaS8xMC4xMTI2L3NjaWVuY2UuYWJvMDQzMdIBAA?hl=en-US&gl=US&ceid=US%3Aen'}, {'title': 'Two Minerals Never Seen Before in Nature Discovered In an ...', 'link': 'https://news.google.com/articles/CBMicmh0dHBzOi8vd3d3LnNjaWVuY2VhbGVydC5jb20vdHdvLW1pbmVyYWxzLW5ldmVyLXNlZW4tYmVmb3JlLWluLW5hdHVyZS1kaXNjb3ZlcmVkLWluLWFuLWFzdGVyb2lkLXRoYXQtZmVsbC10by1lYXJ0aNIBdmh0dHBzOi8vd3d3LnNjaWVuY2VhbGVydC5jb20vdHdvLW1pbmVyYWxzLW5ldmVyLXNlZW4tYmVmb3JlLWluLW5hdHVyZS1kaXNjb3ZlcmVkLWluLWFuLWFzdGVyb2lkLXRoYXQtZmVsbC10by1lYXJ0aC9hbXA?hl=en-US&gl=US&ceid=US%3Aen'}, {'title': \"A 'potentially hazardous' blue-whale-size asteroid will zip through ...\", 'link': 'https://news.google.com/articles/CBMiPmh0dHBzOi8vd3d3LmxpdmVzY2llbmNlLmNvbS9ibHVlLXdoYWxlLWFzdGVyb2lkLXppcC1wYXN0LWVhcnRo0gEA?hl=en-US&gl=US&ceid=US%3Aen'}, {'title': \"NASA's DART mission prepares for an asteroid collision\", 'link': 'https://news.google.com/articles/CBMiTWh0dHBzOi8vd3d3LmNubi5jb20vMjAyMi8wOS8xNi93b3JsZC9uYXNhLWRhcnQtbWlzc2lvbi1wcmV2aWV3LXNjbi9pbmRleC5odG1s0gFRaHR0cHM6Ly9hbXAuY25uLmNvbS9jbm4vMjAyMi8wOS8xNi93b3JsZC9uYXNhLWRhcnQtbWlzc2lvbi1wcmV2aWV3LXNjbi9pbmRleC5odG1s?hl=en-US&gl=US&ceid=US%3Aen'}, {'title': 'Asteroid alert! Gigantic 230-foot asteroid advancing towards Earth at ferocious speed', 'link': 'https://news.google.com/articles/CBMikgFodHRwczovL3RlY2guaGluZHVzdGFudGltZXMuY29tL3RlY2gvbmV3cy9hc3Rlcm9pZC1hbGVydC1naWdhbnRpYy0yMzAtZm9vdC1hc3Rlcm9pZC1hZHZhbmNpbmctdG93YXJkcy1lYXJ0aC1hdC1mZXJvY2lvdXMtc3BlZWQtNzE2NzMyMjgwOTc5NjYuaHRtbNIBlgFodHRwczovL3RlY2guaGluZHVzdGFudGltZXMuY29tL2FtcC90ZWNoL25ld3MvYXN0ZXJvaWQtYWxlcnQtZ2lnYW50aWMtMjMwLWZvb3QtYXN0ZXJvaWQtYWR2YW5jaW5nLXRvd2FyZHMtZWFydGgtYXQtZmVyb2Npb3VzLXNwZWVkLTcxNjczMjI4MDk3OTY2Lmh0bWw?hl=en-US&gl=US&ceid=US%3Aen'}, {'title': 'NASA intentionally crashed a spacecraft into an asteroid. This ...', 'link': 'https://news.google.com/articles/CBMic2h0dHBzOi8vd3d3LmNvbG9yYWRvLmVkdS90b2RheS8yMDIyLzA5LzIyL25hc2EtaW50ZW50aW9uYWxseS1jcmFzaGVkLXNwYWNlY3JhZnQtYXN0ZXJvaWQtZW5naW5lZXItd2F0Y2hlZC1pdC1oYXBwZW7SAQA?hl=en-US&gl=US&ceid=US%3Aen'}, {'title': \"A comet not seen in 50000 years is coming. Here's what you need to ...\", 'link': 'https://news.google.com/articles/CBMiR2h0dHBzOi8vd3d3LnNwYWNlLmNvbS9jb21ldC1jMjAyMi1lMy16dGYtdmlzaWJsZS1uYWtlZC1leWUtamFudWFyeS0yMDIz0gEA?hl=en-US&gl=US&ceid=US%3Aen'}, {'title': 'Another scary Asteroid heading for Earth today! NASA issues warning', 'link': 'https://news.google.com/articles/CBMigAFodHRwczovL3RlY2guaGluZHVzdGFudGltZXMuY29tL3RlY2gvbmV3cy9hbm90aGVyLXNjYXJ5LWFzdGVyb2lkLWhlYWRpbmctZm9yLWVhcnRoLXRvZGF5LW5hc2EtaXNzdWVzLXdhcm5pbmctNzE2NjIwOTc4ODkwNTAuaHRtbNIBhAFodHRwczovL3RlY2guaGluZHVzdGFudGltZXMuY29tL2FtcC90ZWNoL25ld3MvYW5vdGhlci1zY2FyeS1hc3Rlcm9pZC1oZWFkaW5nLWZvci1lYXJ0aC10b2RheS1uYXNhLWlzc3Vlcy13YXJuaW5nLTcxNjYyMDk3ODg5MDUwLmh0bWw?hl=en-US&gl=US&ceid=US%3Aen'}, {'title': 'NASA issues asteroid warning as 160-foot rock set to approach Earth on Feb 11', 'link': 'https://news.google.com/articles/CBMiiwFodHRwczovL3RlY2guaGluZHVzdGFudGltZXMuY29tL3RlY2gvbmV3cy9uYXNhLWlzc3Vlcy1hc3Rlcm9pZC13YXJuaW5nLWFzLTE2MC1mb290LXJvY2stc2V0LXRvLWFwcHJvYWNoLWVhcnRoLW9uLWZlYi0xMS03MTY3NjAwODEzOTAwNS5odG1s0gGPAWh0dHBzOi8vdGVjaC5oaW5kdXN0YW50aW1lcy5jb20vYW1wL3RlY2gvbmV3cy9uYXNhLWlzc3Vlcy1hc3Rlcm9pZC13YXJuaW5nLWFzLTE2MC1mb290LXJvY2stc2V0LXRvLWFwcHJvYWNoLWVhcnRoLW9uLWZlYi0xMS03MTY3NjAwODEzOTAwNS5odG1s?hl=en-US&gl=US&ceid=US%3Aen'}, {'title': 'NASA asteroid warning! This asteroid coming for Earth at amazing 31140 kmph', 'link': 'https://news.google.com/articles/CBMiiAFodHRwczovL3RlY2guaGluZHVzdGFudGltZXMuY29tL3RlY2gvbmV3cy9uYXNhLWFzdGVyb2lkLXdhcm5pbmctdGhpcy1hc3Rlcm9pZC1jb21pbmctZm9yLWVhcnRoLWF0LWFtYXppbmctMzExNDAta21waC03MTY2NjM0MTY0MzgyOS5odG1s0gGMAWh0dHBzOi8vdGVjaC5oaW5kdXN0YW50aW1lcy5jb20vYW1wL3RlY2gvbmV3cy9uYXNhLWFzdGVyb2lkLXdhcm5pbmctdGhpcy1hc3Rlcm9pZC1jb21pbmctZm9yLWVhcnRoLWF0LWFtYXppbmctMzExNDAta21waC03MTY2NjM0MTY0MzgyOS5odG1s?hl=en-US&gl=US&ceid=US%3Aen'}, {'title': 'Astronomers spot largest potentially hazardous asteroid detected in last eight years', 'link': 'https://news.google.com/articles/CBMiVWh0dHBzOi8vcGh5cy5vcmcvbmV3cy8yMDIyLTEwLWFzdHJvbm9tZXJzLWxhcmdlc3QtcG90ZW50aWFsbHktaGF6YXJkb3VzLWFzdGVyb2lkLmh0bWzSAVRodHRwczovL3BoeXMub3JnL25ld3MvMjAyMi0xMC1hc3Ryb25vbWVycy1sYXJnZXN0LXBvdGVudGlhbGx5LWhhemFyZG91cy1hc3Rlcm9pZC5hbXA?hl=en-US&gl=US&ceid=US%3Aen'}, {'title': \"NASA's DART asteroid smash flung 2 million pounds of rock into ...\", 'link': 'https://news.google.com/articles/CBMiP2h0dHBzOi8vd3d3LnNwYWNlLmNvbS9kYXJ0LWFzdGVyb2lkLWltcGFjdC1lamVjdGEtZmluZGluZ3MtYmV0YdIBAA?hl=en-US&gl=US&ceid=US%3Aen'}, {'title': 'Giant asteroid to fly by Earth today; NASA reveals details | Mint', 'link': 'https://news.google.com/articles/CBMic2h0dHBzOi8vd3d3LmxpdmVtaW50LmNvbS9zY2llbmNlL25ld3MvZ2lhbnQtYXN0ZXJvaWQtdG8tZmx5LWJ5LWVhcnRoLXRvZGF5LW5hc2EtcmV2ZWFscy1kZXRhaWxzLTExNjcxNTAxNDc5MDE5Lmh0bWzSAXdodHRwczovL3d3dy5saXZlbWludC5jb20vc2NpZW5jZS9uZXdzL2dpYW50LWFzdGVyb2lkLXRvLWZseS1ieS1lYXJ0aC10b2RheS1uYXNhLXJldmVhbHMtZGV0YWlscy9hbXAtMTE2NzE1MDE0NzkwMTkuaHRtbA?hl=en-US&gl=US&ceid=US%3Aen'}, {'title': \"NASA will crash a spacecraft into a 525-foot-wide asteroid in September. Here's how to watch it\", 'link': 'https://news.google.com/articles/CBMiT2h0dHBzOi8vcGh5cy5vcmcvbmV3cy8yMDIyLTA4LW5hc2Etc3BhY2VjcmFmdC1mb290LXdpZGUtYXN0ZXJvaWQtc2VwdGVtYmVyLmh0bWzSAU5odHRwczovL3BoeXMub3JnL25ld3MvMjAyMi0wOC1uYXNhLXNwYWNlY3JhZnQtZm9vdC13aWRlLWFzdGVyb2lkLXNlcHRlbWJlci5hbXA?hl=en-US&gl=US&ceid=US%3Aen'}, {'title': 'How an asteroid impact would transform the food we eat', 'link': 'https://news.google.com/articles/CBMiYmh0dHBzOi8vd3d3LmJiYy5jb20vZnV0dXJlL2FydGljbGUvMjAyMjEwMTMtaG93LWFuLWFzdGVyb2lkLWltcGFjdC13b3VsZC10cmFuc2Zvcm0tdGhlLWZvb2Qtd2UtZWF00gEA?hl=en-US&gl=US&ceid=US%3Aen'}, {'title': 'In Pics: NASA alert as 5 asteroids set to make close approach to Earth', 'link': 'https://news.google.com/articles/CBMigAFodHRwczovL3RlY2guaGluZHVzdGFudGltZXMuY29tL3Bob3Rvcy9pbi1waWNzLW5hc2EtYWxlcnQtYXMtNS1hc3Rlcm9pZHMtc2V0LXRvLW1ha2UtY2xvc2UtYXBwcm9hY2gtdG8tZWFydGgtNzE2NzAyMTQ4OTk2MTkuaHRtbNIBhAFodHRwczovL3RlY2guaGluZHVzdGFudGltZXMuY29tL2FtcC9waG90b3MvaW4tcGljcy1uYXNhLWFsZXJ0LWFzLTUtYXN0ZXJvaWRzLXNldC10by1tYWtlLWNsb3NlLWFwcHJvYWNoLXRvLWVhcnRoLTcxNjcwMjE0ODk5NjE5Lmh0bWw?hl=en-US&gl=US&ceid=US%3Aen'}, {'title': '56-foot asteroid hurtling towards Earth TODAY; NASA issues warning', 'link': 'https://news.google.com/articles/CBMifmh0dHBzOi8vdGVjaC5oaW5kdXN0YW50aW1lcy5jb20vdGVjaC9uZXdzLzU2Zm9vdC1hc3Rlcm9pZC1odXJ0bGluZy10b3dhcmRzLWVhcnRoLXRvZGF5LW5hc2EtaXNzdWVzLXdhcm5pbmctNzE2Njc3ODk4NDQ0MjIuaHRtbNIBggFodHRwczovL3RlY2guaGluZHVzdGFudGltZXMuY29tL2FtcC90ZWNoL25ld3MvNTZmb290LWFzdGVyb2lkLWh1cnRsaW5nLXRvd2FyZHMtZWFydGgtdG9kYXktbmFzYS1pc3N1ZXMtd2FybmluZy03MTY2Nzc4OTg0NDQyMi5odG1s?hl=en-US&gl=US&ceid=US%3Aen'}, {'title': 'Green comet will appear in the night sky for the first time since the Stone Age', 'link': 'https://news.google.com/articles/CBMiT2h0dHBzOi8vd3d3LmNubi5jb20vMjAyMy8wMS8zMS93b3JsZC9ncmVlbi1jb21ldC1jLTIwMjItZTMtd2F0Y2gtc2NuL2luZGV4Lmh0bWzSAVNodHRwczovL2FtcC5jbm4uY29tL2Nubi8yMDIzLzAxLzMxL3dvcmxkL2dyZWVuLWNvbWV0LWMtMjAyMi1lMy13YXRjaC1zY24vaW5kZXguaHRtbA?hl=en-US&gl=US&ceid=US%3Aen'}, {'title': 'DART impact changed asteroid’s orbit, NASA confirms', 'link': 'https://news.google.com/articles/CBMiSGh0dHBzOi8vZWFydGhza3kub3JnL3NwYWNlL2RhcnQtaW1wYWN0LWFuLWFzdGVyb2lkLW9uLXNlcHRlbWJlci0yNi0yMDIyL9IBAA?hl=en-US&gl=US&ceid=US%3Aen'}, {'title': 'OSIRIS-REx asteroid samples will land on Earth in 2023 and ...', 'link': 'https://news.google.com/articles/CBMiQWh0dHBzOi8vd3d3LnNwYWNlLmNvbS9vc2lyaXMtcmV4LWFzdGVyb2lkLXNhbXBsZS1kZWxpdmVyeS1wcmV2aWV30gEA?hl=en-US&gl=US&ceid=US%3Aen'}, {'title': \"'Tiny' asteroid strikes Earth testing early warning system\", 'link': 'https://news.google.com/articles/CBMiUWh0dHBzOi8vd3d3LmNubi5jb20vMjAyMi8wMy8xNi93b3JsZC9hc3Rlcm9pZC10ZXN0cy13YXJuaW5nLXN5c3RlbS1zY24vaW5kZXguaHRtbNIBVWh0dHBzOi8vYW1wLmNubi5jb20vY25uLzIwMjIvMDMvMTYvd29ybGQvYXN0ZXJvaWQtdGVzdHMtd2FybmluZy1zeXN0ZW0tc2NuL2luZGV4Lmh0bWw?hl=en-US&gl=US&ceid=US%3Aen'}, {'title': 'The asteroid that wiped out the dinosaurs caused a ‘megatsunami’', 'link': 'https://news.google.com/articles/CBMiZ2h0dHBzOi8vd3d3Lndhc2hpbmd0b25wb3N0LmNvbS9jbGltYXRlLWVudmlyb25tZW50LzIwMjIvMTAvMTkvdHN1bmFtaS1kaW5vc2F1ci1tZXRlb3ItZXh0aW5jdGlvbi13YXZlcy_SAQA?hl=en-US&gl=US&ceid=US%3Aen'}, {'title': 'A 15-metric ton meteorite crashed in Africa. Now 2 new minerals have been found in it', 'link': 'https://news.google.com/articles/CBMiX2h0dHBzOi8vd3d3LmNubi5jb20vMjAyMi8xMi8yNC93b3JsZC9uZXctbWluZXJhbHMtZGlzY292ZXJlZC1pbi1lbC1hbGktbWV0ZW9yaXRlLXNjbi9pbmRleC5odG1s0gFjaHR0cHM6Ly9hbXAuY25uLmNvbS9jbm4vMjAyMi8xMi8yNC93b3JsZC9uZXctbWluZXJhbHMtZGlzY292ZXJlZC1pbi1lbC1hbGktbWV0ZW9yaXRlLXNjbi9pbmRleC5odG1s?hl=en-US&gl=US&ceid=US%3Aen'}, {'title': 'NASA ALERT! Devastating 180-foot asteroid hurtling towards Earth tomorrow', 'link': 'https://news.google.com/articles/CBMihgFodHRwczovL3RlY2guaGluZHVzdGFudGltZXMuY29tL3RlY2gvbmV3cy9uYXNhLWFsZXJ0LWRldmFzdGF0aW5nLTE4MC1mb290LWFzdGVyb2lkLWh1cnRsaW5nLXRvd2FyZHMtZWFydGgtdG9tb3Jyb3ctNzE2NjI2MTEwNDE2MjQuaHRtbNIBigFodHRwczovL3RlY2guaGluZHVzdGFudGltZXMuY29tL2FtcC90ZWNoL25ld3MvbmFzYS1hbGVydC1kZXZhc3RhdGluZy0xODAtZm9vdC1hc3Rlcm9pZC1odXJ0bGluZy10b3dhcmRzLWVhcnRoLXRvbW9ycm93LTcxNjYyNjExMDQxNjI0Lmh0bWw?hl=en-US&gl=US&ceid=US%3Aen'}, {'title': 'Possible naked-eye comet will visit Earth for 1st time since ...', 'link': 'https://news.google.com/articles/CBMiSmh0dHBzOi8vd3d3LnNwYWNlLmNvbS9jb21ldC0yMDIyLWUzLXp0Zi1wb3NzaWJsZS1uYWtlZC1leWUtdmlzaWJpbGl0eS0yMDIz0gEA?hl=en-US&gl=US&ceid=US%3Aen'}, {'title': 'NASA warns AGAIN! Hazardous asteroid heading for Earth today', 'link': 'https://news.google.com/articles/CBMieWh0dHBzOi8vdGVjaC5oaW5kdXN0YW50aW1lcy5jb20vdGVjaC9uZXdzL25hc2Etd2FybnMtYWdhaW4taGF6YXJkb3VzLWFzdGVyb2lkLWhlYWRpbmctZm9yLWVhcnRoLXRvZGF5LTcxNjYzODI5ODYwODI1Lmh0bWzSAX1odHRwczovL3RlY2guaGluZHVzdGFudGltZXMuY29tL2FtcC90ZWNoL25ld3MvbmFzYS13YXJucy1hZ2Fpbi1oYXphcmRvdXMtYXN0ZXJvaWQtaGVhZGluZy1mb3ItZWFydGgtdG9kYXktNzE2NjM4Mjk4NjA4MjUuaHRtbA?hl=en-US&gl=US&ceid=US%3Aen'}, {'title': 'Mineral Samples May Have Just Revealed The Mysterious ...', 'link': 'https://news.google.com/articles/CBMib2h0dHBzOi8vd3d3LnNjaWVuY2VhbGVydC5jb20vbWluZXJhbC1zYW1wbGVzLW1heS1oYXZlLWp1c3QtcmV2ZWFsZWQtdGhlLW15c3RlcmlvdXMtYmlydGhwbGFjZS1vZi1hc3Rlcm9pZC1yeXVnddIBc2h0dHBzOi8vd3d3LnNjaWVuY2VhbGVydC5jb20vbWluZXJhbC1zYW1wbGVzLW1heS1oYXZlLWp1c3QtcmV2ZWFsZWQtdGhlLW15c3RlcmlvdXMtYmlydGhwbGFjZS1vZi1hc3Rlcm9pZC1yeXVndS9hbXA?hl=en-US&gl=US&ceid=US%3Aen'}, {'title': 'Set a calendar alert: NASA to broadcast first asteroid redirect on Monday', 'link': 'https://news.google.com/articles/CBMiXGh0dHBzOi8vYXJzdGVjaG5pY2EuY29tL3NjaWVuY2UvMjAyMi8wOS9uYXNhcy1kYXJ0LWFzdGVyb2lkLXJlZGlyZWN0aW9uLXRlc3Qtc2V0LWZvci1tb25kYXkv0gFgaHR0cHM6Ly9hcnN0ZWNobmljYS5jb20vc2NpZW5jZS8yMDIyLzA5L25hc2FzLWRhcnQtYXN0ZXJvaWQtcmVkaXJlY3Rpb24tdGVzdC1zZXQtZm9yLW1vbmRheS9hbXAv?hl=en-US&gl=US&ceid=US%3Aen'}, {'title': \"A rare bright green comet is visible from Earth as it makes its likely only appearance in recorded history. Here's how to see it.\", 'link': 'https://news.google.com/articles/CBMiXWh0dHBzOi8vd3d3LmNic25ld3MuY29tL25ld3MvY29tZXQtZTMtZmlyc3QtbGlrZWx5LW9ubHktYXBwZWFyYW5jZS1pbi1yZWNvcmRlZC1oaXN0b3J5LWVhcnRoL9IBYWh0dHBzOi8vd3d3LmNic25ld3MuY29tL2FtcC9uZXdzL2NvbWV0LWUzLWZpcnN0LWxpa2VseS1vbmx5LWFwcGVhcmFuY2UtaW4tcmVjb3JkZWQtaGlzdG9yeS1lYXJ0aC8?hl=en-US&gl=US&ceid=US%3Aen'}, {'title': 'Paleontologist accused of faking data in dino-killing asteroid paper', 'link': 'https://news.google.com/articles/CBMiZmh0dHBzOi8vd3d3LnNjaWVuY2Uub3JnL2NvbnRlbnQvYXJ0aWNsZS9wYWxlb250b2xvZ2lzdC1hY2N1c2VkLWZha2luZy1kYXRhLWRpbm8ta2lsbGluZy1hc3Rlcm9pZC1wYXBlctIBAA?hl=en-US&gl=US&ceid=US%3Aen'}, {'title': '8 ways to stop an asteroid: Nuclear weapons, paint and Bruce Willis', 'link': 'https://news.google.com/articles/CBMiOmh0dHBzOi8vd3d3LnNwYWNlLmNvbS9ob3ctc3RvcC1hc3Rlcm9pZC1mcm9tLWhpdHRpbmctZWFydGjSAQA?hl=en-US&gl=US&ceid=US%3Aen'}, {'title': 'Green comet streaks across the sky in 2023 for first time since Stone Age', 'link': 'https://news.google.com/articles/CBMibGh0dHBzOi8vd3d3Lmt4YW4uY29tL25ld3Mvc2NpZW5jZS9ncmVlbi1jb21ldC1zdHJlYWtzLWFjcm9zcy10aGUtc2t5LWluLTIwMjMtZm9yLWZpcnN0LXRpbWUtc2luY2Utc3RvbmUtYWdlL9IBcGh0dHBzOi8vd3d3Lmt4YW4uY29tL25ld3Mvc2NpZW5jZS9ncmVlbi1jb21ldC1zdHJlYWtzLWFjcm9zcy10aGUtc2t5LWluLTIwMjMtZm9yLWZpcnN0LXRpbWUtc2luY2Utc3RvbmUtYWdlL2FtcC8?hl=en-US&gl=US&ceid=US%3Aen'}, {'title': '“Chance of Impact 100%” – Fifth Asteroid Ever Discovered Before Impact', 'link': 'https://news.google.com/articles/CBMiW2h0dHBzOi8vc2NpdGVjaGRhaWx5LmNvbS9jaGFuY2Utb2YtaW1wYWN0LTEwMC1maWZ0aC1hc3Rlcm9pZC1ldmVyLWRpc2NvdmVyZWQtYmVmb3JlLWltcGFjdC_SAV9odHRwczovL3NjaXRlY2hkYWlseS5jb20vY2hhbmNlLW9mLWltcGFjdC0xMDAtZmlmdGgtYXN0ZXJvaWQtZXZlci1kaXNjb3ZlcmVkLWJlZm9yZS1pbXBhY3QvYW1wLw?hl=en-US&gl=US&ceid=US%3Aen'}, {'title': 'Asteroid alert! Aircraft-sized asteroid charging towards at Earth at a fiery 53171 kmph', 'link': 'https://news.google.com/articles/CBMilAFodHRwczovL3RlY2guaGluZHVzdGFudGltZXMuY29tL3RlY2gvbmV3cy9hc3Rlcm9pZC1hbGVydC1haXJjcmFmdC1zaXplZC1hc3Rlcm9pZC1jaGFyZ2luZy10b3dhcmRzLWF0LWVhcnRoLWF0LWEtZmllcnktNTMxNzEta21waC03MTY3MjAxNjg2Njg4Ni5odG1s0gGYAWh0dHBzOi8vdGVjaC5oaW5kdXN0YW50aW1lcy5jb20vYW1wL3RlY2gvbmV3cy9hc3Rlcm9pZC1hbGVydC1haXJjcmFmdC1zaXplZC1hc3Rlcm9pZC1jaGFyZ2luZy10b3dhcmRzLWF0LWVhcnRoLWF0LWEtZmllcnktNTMxNzEta21waC03MTY3MjAxNjg2Njg4Ni5odG1s?hl=en-US&gl=US&ceid=US%3Aen'}, {'title': 'Green comet seen from Earth for first time since Stone Age', 'link': 'https://news.google.com/articles/CBMia2h0dHBzOi8vd3d3LmNubi5jb20vdmlkZW9zL2J1c2luZXNzLzIwMjMvMDIvMDIvZ3JlZW4tY29tZXQtc3BhY2UtZWFydGgtc3RvbmUtYWdlLWNubnRtLWNwcm9nLWZpc2hlci12cHguY25u0gFvaHR0cHM6Ly9hbXAuY25uLmNvbS9jbm4vdmlkZW9zL2J1c2luZXNzLzIwMjMvMDIvMDIvZ3JlZW4tY29tZXQtc3BhY2UtZWFydGgtc3RvbmUtYWdlLWNubnRtLWNwcm9nLWZpc2hlci12cHguY25u?hl=en-US&gl=US&ceid=US%3Aen'}, {'title': \"4.6 billion-year-old meteorite may reveal the origin of Earth's water\", 'link': 'https://news.google.com/articles/CBMiTGh0dHBzOi8vd3d3LmxpdmVzY2llbmNlLmNvbS91ay1kcml2ZXdheS1hc3Rlcm9pZC1jb3VsZC1leHBsYWluLW9jZWFuLW9yaWdpbnPSAQA?hl=en-US&gl=US&ceid=US%3Aen'}, {'title': 'NASA’s Moon-Bound Megarocket Will Send a Spacecraft to an Asteroid, Too', 'link': 'https://news.google.com/articles/CBMicWh0dHBzOi8vd3d3LnNjaWVudGlmaWNhbWVyaWNhbi5jb20vYXJ0aWNsZS9uYXNhcy1tb29uLWJvdW5kLW1lZ2Fyb2NrZXQtd2lsbC1zZW5kLWEtc3BhY2VjcmFmdC10by1hbi1hc3Rlcm9pZC10b28v0gF6aHR0cHM6Ly93d3cuc2NpZW50aWZpY2FtZXJpY2FuLmNvbS9hcnRpY2xlL25hc2FzLW1vb24tYm91bmQtbWVnYXJvY2tldC13aWxsLXNlbmQtYS1zcGFjZWNyYWZ0LXRvLWFuLWFzdGVyb2lkLXRvby8_YW1wPXRydWU?hl=en-US&gl=US&ceid=US%3Aen'}, {'title': \"Astronomers trace fireball in Earth's skies to space rock that made it\", 'link': 'https://news.google.com/articles/CBMic2h0dHBzOi8vd3d3Lm5ld3NjaWVudGlzdC5jb20vYXJ0aWNsZS8yMzM5MTk1LWFzdHJvbm9tZXJzLXRyYWNlLWZpcmViYWxsLWluLWVhcnRocy1za2llcy10by1zcGFjZS1yb2NrLXRoYXQtbWFkZS1pdC_SAQA?hl=en-US&gl=US&ceid=US%3Aen'}, {'title': 'Alert! Menacing asteroid to come as close to Earth as the Moon today, says NASA', 'link': 'https://news.google.com/articles/CBMiiwFodHRwczovL3RlY2guaGluZHVzdGFudGltZXMuY29tL3RlY2gvbmV3cy9hbGVydC1tZW5hY2luZy1hc3Rlcm9pZC10by1jb21lLWFzLWNsb3NlLXRvLWVhcnRoLWFzLXRoZS1tb29uLXRvZGF5LXNheXMtbmFzYS03MTY2NjU4NTYyMTAyOS5odG1s0gGPAWh0dHBzOi8vdGVjaC5oaW5kdXN0YW50aW1lcy5jb20vYW1wL3RlY2gvbmV3cy9hbGVydC1tZW5hY2luZy1hc3Rlcm9pZC10by1jb21lLWFzLWNsb3NlLXRvLWVhcnRoLWFzLXRoZS1tb29uLXRvZGF5LXNheXMtbmFzYS03MTY2NjU4NTYyMTAyOS5odG1s?hl=en-US&gl=US&ceid=US%3Aen'}, {'title': 'See a rare green comet closest to the sun on Jan. 12 in livestream', 'link': 'https://news.google.com/articles/CBMiTGh0dHBzOi8vd3d3LnNwYWNlLmNvbS9jb21ldC1jMjAyMi1lMy16dGYtY2xvc2VzdC10by1zdW4tdGh1cnNkYXktamFuLTEyLTIwMjPSAQA?hl=en-US&gl=US&ceid=US%3Aen'}, {'title': 'Could an asteroid destroy Earth?', 'link': 'https://news.google.com/articles/CBMiOWh0dHBzOi8vd3d3LmxpdmVzY2llbmNlLmNvbS9hc3Rlcm9pZC1pbXBhY3QtZGVzdHJveS1lYXJ0aNIBAA?hl=en-US&gl=US&ceid=US%3Aen'}, {'title': 'NASA Spacecraft Will Visit Apophis, Once Earth’s Deadliest Asteroid Threat', 'link': 'https://news.google.com/articles/CBMie2h0dHBzOi8vd3d3LnNjaWVudGlmaWNhbWVyaWNhbi5jb20vYXJ0aWNsZS9uYXNhLXNwYWNlY3JhZnQtd2lsbC12aXNpdC1hcG9waGlzLW9uY2UtZWFydGgtcnNxdW8tcy1kZWFkbGllc3QtYXN0ZXJvaWQtdGhyZWF0L9IBhAFodHRwczovL3d3dy5zY2llbnRpZmljYW1lcmljYW4uY29tL2FydGljbGUvbmFzYS1zcGFjZWNyYWZ0LXdpbGwtdmlzaXQtYXBvcGhpcy1vbmNlLWVhcnRoLXJzcXVvLXMtZGVhZGxpZXN0LWFzdGVyb2lkLXRocmVhdC8_YW1wPXRydWU?hl=en-US&gl=US&ceid=US%3Aen'}, {'title': 'Large asteroid RM4 to pass closely November 1', 'link': 'https://news.google.com/articles/CBMiS2h0dHBzOi8vZWFydGhza3kub3JnL3NwYWNlL2xhcmdlLWFzdGVyb2lkLXRvLXBhc3MtZWFydGgtb24tbm92ZW1iZXItMS0yMDIyL9IBAA?hl=en-US&gl=US&ceid=US%3Aen'}, {'title': 'Alert! This asteroid will get even CLOSER than the moon to Earth, says NASA', 'link': 'https://news.google.com/articles/CBMihwFodHRwczovL3RlY2guaGluZHVzdGFudGltZXMuY29tL3RlY2gvbmV3cy9hbGVydC10aGlzLWFzdGVyb2lkLXdpbGwtZ2V0LWV2ZW4tY2xvc2VyLXRoYW4tdGhlLW1vb24tdG8tZWFydGgtc2F5cy1uYXNhLTcxNjcxMzQ2NjAwNjY5Lmh0bWzSAYsBaHR0cHM6Ly90ZWNoLmhpbmR1c3RhbnRpbWVzLmNvbS9hbXAvdGVjaC9uZXdzL2FsZXJ0LXRoaXMtYXN0ZXJvaWQtd2lsbC1nZXQtZXZlbi1jbG9zZXItdGhhbi10aGUtbW9vbi10by1lYXJ0aC1zYXlzLW5hc2EtNzE2NzEzNDY2MDA2NjkuaHRtbA?hl=en-US&gl=US&ceid=US%3Aen'}, {'title': 'A Fireball That Exploded Over Canada Has Been Traced to a Very ...', 'link': 'https://news.google.com/articles/CBMibWh0dHBzOi8vd3d3LnNjaWVuY2VhbGVydC5jb20vYS1maXJlYmFsbC10aGF0LWV4cGxvZGVkLW92ZXItY2FuYWRhLWhhcy1iZWVuLXRyYWNlZC10by1hLXZlcnktdW5leHBlY3RlZC1vcmlnaW7SAXFodHRwczovL3d3dy5zY2llbmNlYWxlcnQuY29tL2EtZmlyZWJhbGwtdGhhdC1leHBsb2RlZC1vdmVyLWNhbmFkYS1oYXMtYmVlbi10cmFjZWQtdG8tYS12ZXJ5LXVuZXhwZWN0ZWQtb3JpZ2luL2FtcA?hl=en-US&gl=US&ceid=US%3Aen'}, {'title': \"Rare dark-streaked meteorites may come from a 'potentially ...\", 'link': 'https://news.google.com/articles/CBMiRmh0dHBzOi8vd3d3LnNwYWNlLmNvbS9yYXJlLXN0cmVha2VkLW1ldGVvcml0ZXMtZnJvbS1oYXphcmRvdXMtYXN0ZXJvaWTSAQA?hl=en-US&gl=US&ceid=US%3Aen'}, {'title': 'A Giant Asteroid Bigger Than The Empire State Building Is About To ...', 'link': 'https://news.google.com/articles/CBMieWh0dHBzOi8vd3d3LnNjaWVuY2VhbGVydC5jb20vYS1tYXNzaXZlLWFzdGVyb2lkLTItNXgtdGhlLWhlaWdodC1vZi1lbXBpcmUtc3RhdGUtYnVpbGRpbmctd2lsbC1zYWZlbHktcGFzcy1lYXJ0aC1uZXh0LXdlZWvSAX1odHRwczovL3d3dy5zY2llbmNlYWxlcnQuY29tL2EtbWFzc2l2ZS1hc3Rlcm9pZC0yLTV4LXRoZS1oZWlnaHQtb2YtZW1waXJlLXN0YXRlLWJ1aWxkaW5nLXdpbGwtc2FmZWx5LXBhc3MtZWFydGgtbmV4dC13ZWVrL2FtcA?hl=en-US&gl=US&ceid=US%3Aen'}, {'title': 'Asteroid discovered hours before Earth impact', 'link': 'https://news.google.com/articles/CBMiTWh0dHBzOi8vZWFydGhza3kub3JnL3NwYWNlL2FzdGVyb2lkLWRpc2NvdmVyZWQtaG91cnMtYmVmb3JlLWVhcnRoLWltcGFjdC1lYjUv0gEA?hl=en-US&gl=US&ceid=US%3Aen'}, {'title': 'The asteroid that formed Vredefort crater was bigger than previously believed', 'link': 'https://news.google.com/articles/CBMiTmh0dHBzOi8vcGh5cy5vcmcvbmV3cy8yMDIyLTA5LWFzdGVyb2lkLXZyZWRlZm9ydC1jcmF0ZXItYmlnZ2VyLXByZXZpb3VzbHkuaHRtbNIBTWh0dHBzOi8vcGh5cy5vcmcvbmV3cy8yMDIyLTA5LWFzdGVyb2lkLXZyZWRlZm9ydC1jcmF0ZXItYmlnZ2VyLXByZXZpb3VzbHkuYW1w?hl=en-US&gl=US&ceid=US%3Aen'}, {'title': 'NASA asteroid alert! Humongous 280-foot asteroid approaching Earth tomorrow!', 'link': 'https://news.google.com/articles/CBMiiAFodHRwczovL3RlY2guaGluZHVzdGFudGltZXMuY29tL3RlY2gvbmV3cy9uYXNhLWFzdGVyb2lkLWFsZXJ0LWh1bW9uZ291cy0yODAtZm9vdC1hc3Rlcm9pZC1hcHByb2FjaGluZy1lYXJ0aC10b21vcnJvdy03MTY2NTU2MTU3Mjc0NC5odG1s0gGMAWh0dHBzOi8vdGVjaC5oaW5kdXN0YW50aW1lcy5jb20vYW1wL3RlY2gvbmV3cy9uYXNhLWFzdGVyb2lkLWFsZXJ0LWh1bW9uZ291cy0yODAtZm9vdC1hc3Rlcm9pZC1hcHByb2FjaGluZy1lYXJ0aC10b21vcnJvdy03MTY2NTU2MTU3Mjc0NC5odG1s?hl=en-US&gl=US&ceid=US%3Aen'}, {'title': 'NASA confident it will kill its DART spacecraft after asteroid collision', 'link': 'https://news.google.com/articles/CBMiZ2h0dHBzOi8vbnlwb3N0LmNvbS8yMDIyLzA5LzIzL25hc2EtY29uZmlkZW50LWl0LXdpbGwta2lsbC1pdHMtZGFydC1zcGFjZWNyYWZ0LWFmdGVyLWFzdGVyb2lkLWNvbGxpc2lvbi_SAWtodHRwczovL255cG9zdC5jb20vMjAyMi8wOS8yMy9uYXNhLWNvbmZpZGVudC1pdC13aWxsLWtpbGwtaXRzLWRhcnQtc3BhY2VjcmFmdC1hZnRlci1hc3Rlcm9pZC1jb2xsaXNpb24vYW1wLw?hl=en-US&gl=US&ceid=US%3Aen'}, {'title': 'NASA alert! Planet-killer 93-foot asteroid zooming towards Earth today; SHOCKING discovery', 'link': 'https://news.google.com/articles/CBMilgFodHRwczovL3RlY2guaGluZHVzdGFudGltZXMuY29tL3RlY2gvbmV3cy9uYXNhLWFsZXJ0LXBsYW5ldC1raWxsZXItOTMtZm9vdC1hc3Rlcm9pZC16b29taW5nLXRvd2FyZHMtZWFydGgtdG9kYXktc2hvY2tpbmctZGlzY292ZXJ5LTcxNjY0ODYxNzQ5MjcwLmh0bWzSAZoBaHR0cHM6Ly90ZWNoLmhpbmR1c3RhbnRpbWVzLmNvbS9hbXAvdGVjaC9uZXdzL25hc2EtYWxlcnQtcGxhbmV0LWtpbGxlci05My1mb290LWFzdGVyb2lkLXpvb21pbmctdG93YXJkcy1lYXJ0aC10b2RheS1zaG9ja2luZy1kaXNjb3ZlcnktNzE2NjQ4NjE3NDkyNzAuaHRtbA?hl=en-US&gl=US&ceid=US%3Aen'}, {'title': 'Alert! NASA says hazardous asteroid set to come dangerously close to Earth today', 'link': 'https://news.google.com/articles/CBMijQFodHRwczovL3RlY2guaGluZHVzdGFudGltZXMuY29tL3RlY2gvbmV3cy9hbGVydC1uYXNhLXNheXMtaGF6YXJkb3VzLWFzdGVyb2lkLXNldC10by1jb21lLWRhbmdlcm91c2x5LWNsb3NlLXRvLWVhcnRoLXRvZGF5LTcxNjcwNDc1MTMzMDA3Lmh0bWzSAZEBaHR0cHM6Ly90ZWNoLmhpbmR1c3RhbnRpbWVzLmNvbS9hbXAvdGVjaC9uZXdzL2FsZXJ0LW5hc2Etc2F5cy1oYXphcmRvdXMtYXN0ZXJvaWQtc2V0LXRvLWNvbWUtZGFuZ2Vyb3VzbHktY2xvc2UtdG8tZWFydGgtdG9kYXktNzE2NzA0NzUxMzMwMDcuaHRtbA?hl=en-US&gl=US&ceid=US%3Aen'}, {'title': 'Dangerous asteroid hurtling towards Earth today, Sept 16; will it miss?', 'link': 'https://news.google.com/articles/CBMiggFodHRwczovL3RlY2guaGluZHVzdGFudGltZXMuY29tL3RlY2gvbmV3cy9kYW5nZXJvdXMtYXN0ZXJvaWQtaHVydGxpbmctdG93YXJkcy1lYXJ0aC10b2RheS1zZXB0LTE2LXdpbGwtaXQtbWlzcy03MTY2MzMwNTE2MTM3NC5odG1s0gGGAWh0dHBzOi8vdGVjaC5oaW5kdXN0YW50aW1lcy5jb20vYW1wL3RlY2gvbmV3cy9kYW5nZXJvdXMtYXN0ZXJvaWQtaHVydGxpbmctdG93YXJkcy1lYXJ0aC10b2RheS1zZXB0LTE2LXdpbGwtaXQtbWlzcy03MTY2MzMwNTE2MTM3NC5odG1s?hl=en-US&gl=US&ceid=US%3Aen'}, {'title': 'Asteroid, big as a house, set to whizz past Earth today! NASA issues this warning', 'link': 'https://news.google.com/articles/CBMijAFodHRwczovL3RlY2guaGluZHVzdGFudGltZXMuY29tL3RlY2gvbmV3cy9hc3Rlcm9pZC1iaWctYXMtYS1ob3VzZS1zZXQtdG8td2hpenotcGFzdC1lYXJ0aC10b2RheS1uYXNhLWlzc3Vlcy10aGlzLXdhcm5pbmctNzE2NjI1Mjc1MzQ4MTkuaHRtbNIBkAFodHRwczovL3RlY2guaGluZHVzdGFudGltZXMuY29tL2FtcC90ZWNoL25ld3MvYXN0ZXJvaWQtYmlnLWFzLWEtaG91c2Utc2V0LXRvLXdoaXp6LXBhc3QtZWFydGgtdG9kYXktbmFzYS1pc3N1ZXMtdGhpcy13YXJuaW5nLTcxNjYyNTI3NTM0ODE5Lmh0bWw?hl=en-US&gl=US&ceid=US%3Aen'}, {'title': 'NASA clocks asteroid heading for Earth at a fiery 30336 kmph', 'link': 'https://news.google.com/articles/CBMiemh0dHBzOi8vdGVjaC5oaW5kdXN0YW50aW1lcy5jb20vdGVjaC9uZXdzL25hc2EtY2xvY2tzLWFzdGVyb2lkLWhlYWRpbmctZm9yLWVhcnRoLWF0LWEtZmllcnktMzAzMzYta21waC03MTY2OTY5ODUxOTk3Ni5odG1s0gF-aHR0cHM6Ly90ZWNoLmhpbmR1c3RhbnRpbWVzLmNvbS9hbXAvdGVjaC9uZXdzL25hc2EtY2xvY2tzLWFzdGVyb2lkLWhlYWRpbmctZm9yLWVhcnRoLWF0LWEtZmllcnktMzAzMzYta21waC03MTY2OTY5ODUxOTk3Ni5odG1s?hl=en-US&gl=US&ceid=US%3Aen'}, {'title': \"Infamous asteroid Apophis 'rediscovered' as scientists test asteroid ...\", 'link': 'https://news.google.com/articles/CBMiTmh0dHBzOi8vd3d3LnNwYWNlLmNvbS9hc3Rlcm9pZC1hcG9waGlzLXJlZGlzY292ZXJlZC1wbGFuZXRhcnktZGVmZW5zZS1leGVyY2lzZdIBAA?hl=en-US&gl=US&ceid=US%3Aen'}, {'title': 'Did the asteroid that wiped out the dinosaurs have a sibling? Crater ...', 'link': 'https://news.google.com/articles/CBMiQWh0dHBzOi8vd3d3LmxpdmVzY2llbmNlLmNvbS9lbmQtY3JldGFjZW91cy1hc3Rlcm9pZC1jcmF0ZXItYWZyaWNh0gEA?hl=en-US&gl=US&ceid=US%3Aen'}, {'title': 'The rise and fall of the riskiest asteroid in a decade', 'link': 'https://news.google.com/articles/CBMiaWh0dHBzOi8vd3d3LmVzYS5pbnQvU3BhY2VfU2FmZXR5L1BsYW5ldGFyeV9EZWZlbmNlL1RoZV9yaXNlX2FuZF9mYWxsX29mX3RoZV9yaXNraWVzdF9hc3Rlcm9pZF9pbl9hX2RlY2FkZdIBAA?hl=en-US&gl=US&ceid=US%3Aen'}, {'title': 'Asteroid Bennu is old before its time thanks to the sun', 'link': 'https://news.google.com/articles/CBMiRmh0dHBzOi8vd3d3LnNwYWNlLmNvbS9hc3Rlcm9pZC1iZW5udS1jcmFja3MtZnJvbS1zdW4tb3NpcmlzLXJleC1pbWFnZXPSAQA?hl=en-US&gl=US&ceid=US%3Aen'}, {'title': 'Four dangerous asteroids whirling towards earth that might hit today, tells NASA', 'link': 'https://news.google.com/articles/CBMiZ2h0dHBzOi8vd3d3Lndpb25ld3MuY29tL3NjaWVuY2UvZml2ZS1kYW5nZXJvdXMtYXN0ZXJvaWRzLXdoaXJsaW5nLXRvd2FyZHMtZWFydGgtdG9kYXktdGVsbHMtbmFzYS01MzY4MDLSAWtodHRwczovL3d3dy53aW9uZXdzLmNvbS9zY2llbmNlL2ZpdmUtZGFuZ2Vyb3VzLWFzdGVyb2lkcy13aGlybGluZy10b3dhcmRzLWVhcnRoLXRvZGF5LXRlbGxzLW5hc2EtNTM2ODAyL2FtcA?hl=en-US&gl=US&ceid=US%3Aen'}, {'title': '30,000 near-Earth asteroids discovered, and numbers are rising', 'link': 'https://news.google.com/articles/CBMiN2h0dHBzOi8vcGh5cy5vcmcvbmV3cy8yMDIyLTEwLW5lYXItZWFydGgtYXN0ZXJvaWRzLmh0bWzSATZodHRwczovL3BoeXMub3JnL25ld3MvMjAyMi0xMC1uZWFyLWVhcnRoLWFzdGVyb2lkcy5hbXA?hl=en-US&gl=US&ceid=US%3Aen'}, {'title': '‘Insane’: Massive meteor lights up sky over western Washington', 'link': 'https://news.google.com/articles/CBMieWh0dHBzOi8vd3d3Lmtpbmc1LmNvbS9hcnRpY2xlL3RlY2gvc2NpZW5jZS9tZXRlb3ItYnVybnMtYnJpZ2h0bHktc2VhdHRsZS1vcmlvbmlkLzI4MS1hNGEzZTAwZS03MmZiLTRjOGUtOTJlZC03OTU1ZGM4ZjFkNznSAX1odHRwczovL3d3dy5raW5nNS5jb20vYW1wL2FydGljbGUvdGVjaC9zY2llbmNlL21ldGVvci1idXJucy1icmlnaHRseS1zZWF0dGxlLW9yaW9uaWQvMjgxLWE0YTNlMDBlLTcyZmItNGM4ZS05MmVkLTc5NTVkYzhmMWQ3OQ?hl=en-US&gl=US&ceid=US%3Aen'}, {'title': 'Watch a bus-sized asteroid pass safely by Earth today', 'link': 'https://news.google.com/articles/CBMiOmh0dHBzOi8vd3d3LnNwYWNlLmNvbS9hc3Rlcm9pZC0yMDIyLW5mLWVhcnRoLWZseWJ5LXdlYmNhc3TSAQA?hl=en-US&gl=US&ceid=US%3Aen'}, {'title': \"Hubble Space Telescope sees twin 'tails' from asteroid impact\", 'link': 'https://news.google.com/articles/CBMiRmh0dHBzOi8vd3d3LnNwYWNlLmNvbS9odWJibGUtc3BhY2UtdGVsZXNjb3BlLWRhcnQtYXN0ZXJvaWQtZG91YmxlLXRhaWzSAQA?hl=en-US&gl=US&ceid=US%3Aen'}, {'title': 'Asteroid danger! 59-foot space rock hurtling towards Earth, NASA reveals speed, distance', 'link': 'https://news.google.com/articles/CBMikwFodHRwczovL3RlY2guaGluZHVzdGFudGltZXMuY29tL3RlY2gvbmV3cy9hc3Rlcm9pZC1kYW5nZXItNTktZm9vdC1zcGFjZS1yb2NrLWh1cnRsaW5nLXRvd2FyZHMtZWFydGgtbmFzYS1yZXZlYWxzLXNwZWVkLWRpc3RhbmNlLTcxNjY4MTQwNTM4MzY0Lmh0bWzSAZcBaHR0cHM6Ly90ZWNoLmhpbmR1c3RhbnRpbWVzLmNvbS9hbXAvdGVjaC9uZXdzL2FzdGVyb2lkLWRhbmdlci01OS1mb290LXNwYWNlLXJvY2staHVydGxpbmctdG93YXJkcy1lYXJ0aC1uYXNhLXJldmVhbHMtc3BlZWQtZGlzdGFuY2UtNzE2NjgxNDA1MzgzNjQuaHRtbA?hl=en-US&gl=US&ceid=US%3Aen'}, {'title': 'Speedy asteroid heading for Earth today! NASA says its travelling at ...', 'link': 'https://news.google.com/articles/CBMilAFodHRwczovL3RlY2guaGluZHVzdGFudGltZXMuY29tL3RlY2gvbmV3cy9zcGVlZHktYXN0ZXJvaWQtaGVhZGluZy1mb3ItZWFydGgtdG9kYXktbmFzYS1zYXlzLWl0cy10cmF2ZWxsaW5nLWF0LWEtZmllcnktMjM4NTIta21waC03MTY2ODk5NDA5ODM2Ny5odG1s0gEA?hl=en-US&gl=US&ceid=US%3Aen'}, {'title': 'A unique stone skipping–like trajectory of asteroid Aletai', 'link': 'https://news.google.com/articles/CBMiMmh0dHBzOi8vd3d3LnNjaWVuY2Uub3JnL2RvaS8xMC4xMTI2L3NjaWFkdi5hYm04ODkw0gEA?hl=en-US&gl=US&ceid=US%3Aen'}]\n"
     ]
    }
   ],
   "source": [
    "# results\n",
    "print(alerts)"
   ]
  },
  {
   "cell_type": "code",
   "execution_count": 10,
   "id": "0db3b49f",
   "metadata": {},
   "outputs": [
    {
     "data": {
      "text/html": [
       "<div>\n",
       "<style scoped>\n",
       "    .dataframe tbody tr th:only-of-type {\n",
       "        vertical-align: middle;\n",
       "    }\n",
       "\n",
       "    .dataframe tbody tr th {\n",
       "        vertical-align: top;\n",
       "    }\n",
       "\n",
       "    .dataframe thead th {\n",
       "        text-align: right;\n",
       "    }\n",
       "</style>\n",
       "<table border=\"1\" class=\"dataframe\">\n",
       "  <thead>\n",
       "    <tr style=\"text-align: right;\">\n",
       "      <th></th>\n",
       "      <th>title</th>\n",
       "      <th>link</th>\n",
       "    </tr>\n",
       "  </thead>\n",
       "  <tbody>\n",
       "    <tr>\n",
       "      <th>0</th>\n",
       "      <td>Colossal 2400-foot asteroid, 4 other space roc...</td>\n",
       "      <td>https://news.google.com/articles/CBMifWh0dHBzO...</td>\n",
       "    </tr>\n",
       "    <tr>\n",
       "      <th>1</th>\n",
       "      <td>NASA Astronomy Picture of the Day 10 February ...</td>\n",
       "      <td>https://news.google.com/articles/CBMilAFodHRwc...</td>\n",
       "    </tr>\n",
       "    <tr>\n",
       "      <th>2</th>\n",
       "      <td>Asteroid warning! 239-foot asteroid discovered...</td>\n",
       "      <td>https://news.google.com/articles/CBMiigFodHRwc...</td>\n",
       "    </tr>\n",
       "    <tr>\n",
       "      <th>3</th>\n",
       "      <td>Rare, green comet to pass by Earth Wednesday</td>\n",
       "      <td>https://news.google.com/articles/CBMiUGh0dHBzO...</td>\n",
       "    </tr>\n",
       "    <tr>\n",
       "      <th>4</th>\n",
       "      <td>Earth facing danger from a skyscraper-sized as...</td>\n",
       "      <td>https://news.google.com/articles/CBMihwFodHRwc...</td>\n",
       "    </tr>\n",
       "    <tr>\n",
       "      <th>...</th>\n",
       "      <td>...</td>\n",
       "      <td>...</td>\n",
       "    </tr>\n",
       "    <tr>\n",
       "      <th>92</th>\n",
       "      <td>Watch a bus-sized asteroid pass safely by Eart...</td>\n",
       "      <td>https://news.google.com/articles/CBMiOmh0dHBzO...</td>\n",
       "    </tr>\n",
       "    <tr>\n",
       "      <th>93</th>\n",
       "      <td>Hubble Space Telescope sees twin 'tails' from ...</td>\n",
       "      <td>https://news.google.com/articles/CBMiRmh0dHBzO...</td>\n",
       "    </tr>\n",
       "    <tr>\n",
       "      <th>94</th>\n",
       "      <td>Asteroid danger! 59-foot space rock hurtling t...</td>\n",
       "      <td>https://news.google.com/articles/CBMikwFodHRwc...</td>\n",
       "    </tr>\n",
       "    <tr>\n",
       "      <th>95</th>\n",
       "      <td>Speedy asteroid heading for Earth today! NASA ...</td>\n",
       "      <td>https://news.google.com/articles/CBMilAFodHRwc...</td>\n",
       "    </tr>\n",
       "    <tr>\n",
       "      <th>96</th>\n",
       "      <td>A unique stone skipping–like trajectory of ast...</td>\n",
       "      <td>https://news.google.com/articles/CBMiMmh0dHBzO...</td>\n",
       "    </tr>\n",
       "  </tbody>\n",
       "</table>\n",
       "<p>97 rows × 2 columns</p>\n",
       "</div>"
      ],
      "text/plain": [
       "                                                title  \\\n",
       "0   Colossal 2400-foot asteroid, 4 other space roc...   \n",
       "1   NASA Astronomy Picture of the Day 10 February ...   \n",
       "2   Asteroid warning! 239-foot asteroid discovered...   \n",
       "3        Rare, green comet to pass by Earth Wednesday   \n",
       "4   Earth facing danger from a skyscraper-sized as...   \n",
       "..                                                ...   \n",
       "92  Watch a bus-sized asteroid pass safely by Eart...   \n",
       "93  Hubble Space Telescope sees twin 'tails' from ...   \n",
       "94  Asteroid danger! 59-foot space rock hurtling t...   \n",
       "95  Speedy asteroid heading for Earth today! NASA ...   \n",
       "96  A unique stone skipping–like trajectory of ast...   \n",
       "\n",
       "                                                 link  \n",
       "0   https://news.google.com/articles/CBMifWh0dHBzO...  \n",
       "1   https://news.google.com/articles/CBMilAFodHRwc...  \n",
       "2   https://news.google.com/articles/CBMiigFodHRwc...  \n",
       "3   https://news.google.com/articles/CBMiUGh0dHBzO...  \n",
       "4   https://news.google.com/articles/CBMihwFodHRwc...  \n",
       "..                                                ...  \n",
       "92  https://news.google.com/articles/CBMiOmh0dHBzO...  \n",
       "93  https://news.google.com/articles/CBMiRmh0dHBzO...  \n",
       "94  https://news.google.com/articles/CBMikwFodHRwc...  \n",
       "95  https://news.google.com/articles/CBMilAFodHRwc...  \n",
       "96  https://news.google.com/articles/CBMiMmh0dHBzO...  \n",
       "\n",
       "[97 rows x 2 columns]"
      ]
     },
     "execution_count": 10,
     "metadata": {},
     "output_type": "execute_result"
    }
   ],
   "source": [
    "# creating a pandas dataframe\n",
    "\n",
    "df_alerts = pd.DataFrame(alerts)\n",
    "df_alerts"
   ]
  },
  {
   "cell_type": "code",
   "execution_count": 11,
   "id": "1c87cd78",
   "metadata": {},
   "outputs": [],
   "source": [
    "# saving as csv\n",
    "df_alerts.to_csv('asteroid_alerts.csv')"
   ]
  }
 ],
 "metadata": {
  "kernelspec": {
   "display_name": "Python 3 (ipykernel)",
   "language": "python",
   "name": "python3"
  },
  "language_info": {
   "codemirror_mode": {
    "name": "ipython",
    "version": 3
   },
   "file_extension": ".py",
   "mimetype": "text/x-python",
   "name": "python",
   "nbconvert_exporter": "python",
   "pygments_lexer": "ipython3",
   "version": "3.9.13"
  }
 },
 "nbformat": 4,
 "nbformat_minor": 5
}
